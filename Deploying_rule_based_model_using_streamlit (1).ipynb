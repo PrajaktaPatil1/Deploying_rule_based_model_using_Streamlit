{
  "nbformat": 4,
  "nbformat_minor": 0,
  "metadata": {
    "colab": {
      "provenance": []
    },
    "kernelspec": {
      "name": "python3",
      "display_name": "Python 3"
    },
    "language_info": {
      "name": "python"
    }
  },
  "cells": [
    {
      "cell_type": "markdown",
      "source": [
        "## Deploying the rule based model to automate loan prediction\n",
        "\n",
        "1. Building the Frontend of the application\n",
        "2. Loading the data\n",
        "3. Building the model to automate Loan Eligibility\n",
        "4. Deploying the application"
      ],
      "metadata": {
        "id": "qmCcNZzBLtqA"
      }
    },
    {
      "cell_type": "code",
      "source": [],
      "metadata": {
        "id": "R1GB6xOMLu2d"
      },
      "execution_count": null,
      "outputs": []
    },
    {
      "cell_type": "markdown",
      "source": [
        "## 1. Building the Frontend of the application\n",
        "\n",
        "1.1 Install Required Libraries<br>\n",
        "1.2 Creating the Frontend of the app using Streamlit\n",
        "\n",
        "### 1.1 Install Required Libraries"
      ],
      "metadata": {
        "id": "gptmJOhZL_ab"
      }
    },
    {
      "cell_type": "code",
      "source": [
        "# installing pyngrok\n",
        "!pip install -q pyngrok"
      ],
      "metadata": {
        "id": "Wbjj3T3oLu4f"
      },
      "execution_count": 23,
      "outputs": []
    },
    {
      "cell_type": "code",
      "source": [
        "# installing streamlit\n",
        "!pip install -q streamlit"
      ],
      "metadata": {
        "id": "uU87wYtQLu5v"
      },
      "execution_count": 24,
      "outputs": []
    },
    {
      "cell_type": "code",
      "source": [
        "!streamlit version"
      ],
      "metadata": {
        "colab": {
          "base_uri": "https://localhost:8080/"
        },
        "id": "xyoIOty-Lu9J",
        "outputId": "41057145-7460-455e-f0cd-08f7147971c5"
      },
      "execution_count": 25,
      "outputs": [
        {
          "output_type": "stream",
          "name": "stdout",
          "text": [
            "Streamlit, version 1.27.2\n"
          ]
        }
      ]
    },
    {
      "cell_type": "code",
      "source": [],
      "metadata": {
        "id": "nnMMP4zuMqb0"
      },
      "execution_count": null,
      "outputs": []
    },
    {
      "cell_type": "markdown",
      "source": [
        "### 1.2 Creating the frontend of the app using streamlit"
      ],
      "metadata": {
        "id": "Vv5i1VAKM1Zn"
      }
    },
    {
      "cell_type": "code",
      "source": [
        "# creating the script\n",
        "%%writefile app.py\n",
        "\n",
        "# importing streamlit\n",
        "import streamlit as st\n",
        "\n",
        "# this is the main function in which we define our app\n",
        "def main():\n",
        "    # header of the page\n",
        "    st.markdown(\"Check your Loan Eligibility\")\n",
        "\n",
        "    # 2. Loading the data\n",
        "\n",
        "    # following lines create boxes in which user can enter data required to make prediction\n",
        "    Gender = st.selectbox('Gender',(\"Male\",\"Female\",\"Other\"))\n",
        "    Married = st.selectbox('Marital Status',(\"Unmarried\",\"Married\",\"Other\"))\n",
        "    ApplicantIncome = st.number_input(\"Monthly Income in Rupees\")\n",
        "    LoanAmount = st.number_input(\"Loan Amount in Rupees\")\n",
        "    result =\"\"\n",
        "    # when 'Check' is clicked, make the prediction and store it\n",
        "    if st.button(\"Check\"):\n",
        "        result = prediction(Gender, Married, ApplicantIncome, LoanAmount)\n",
        "        st.success('Your loan is {}'.format(result))\n",
        "\n",
        "# defining the function which will make the prediction using the data which the user inputs\n",
        "def prediction(Gender, Married, ApplicantIncome, LoanAmount):\n",
        "\n",
        "    # 3. Building the model to automate Loan Eligibility\n",
        "    if (ApplicantIncome >= 50000):\n",
        "        loan_status = 'Approved'\n",
        "    elif (LoanAmount < 500000):\n",
        "        loan_status = 'Approved'\n",
        "    else:\n",
        "        loan_status = 'Rejected'\n",
        "    return loan_status\n",
        "\n",
        "if __name__=='__main__':\n",
        "    main()"
      ],
      "metadata": {
        "colab": {
          "base_uri": "https://localhost:8080/"
        },
        "id": "C1Si-T0aMqeP",
        "outputId": "be32fec1-8ba7-4434-b425-617f7c3f73b4"
      },
      "execution_count": 26,
      "outputs": [
        {
          "output_type": "stream",
          "name": "stdout",
          "text": [
            "Overwriting app.py\n"
          ]
        }
      ]
    },
    {
      "cell_type": "code",
      "source": [
        "## 4. Deploying the application"
      ],
      "metadata": {
        "id": "-m-3R_IKMqh0"
      },
      "execution_count": null,
      "outputs": []
    },
    {
      "cell_type": "markdown",
      "source": [
        "## 4. Deploying the application"
      ],
      "metadata": {
        "id": "6WjeCmoyNHzO"
      }
    },
    {
      "cell_type": "code",
      "source": [
        "# running the app\n",
        "!streamlit run app.py &>/dev/null&"
      ],
      "metadata": {
        "id": "BkOmNm3hNJKZ"
      },
      "execution_count": 27,
      "outputs": []
    },
    {
      "cell_type": "code",
      "source": [
        "!ngrok config add-authtoken \"2VybCaUlfwvLM19kOeKFwvmuFzP_M99kXFM2Hmc5kFzVLWqP\""
      ],
      "metadata": {
        "id": "bBySrdLUpvZz"
      },
      "execution_count": null,
      "outputs": []
    },
    {
      "cell_type": "code",
      "source": [
        "!kill -9 \"$(pgrep ngrok)\"\n",
        "\n",
        "\n",
        "\n",
        "\n",
        "\n"
      ],
      "metadata": {
        "id": "Cp3acHvu5GfI"
      },
      "execution_count": 14,
      "outputs": []
    },
    {
      "cell_type": "markdown",
      "source": [],
      "metadata": {
        "id": "pIcWLxxQ57sL"
      }
    },
    {
      "cell_type": "code",
      "source": [
        "# making the locally-hosted web application to be publicly accessible\n",
        "from pyngrok import ngrok\n",
        "\n",
        "public_url = ngrok.connect('8501')\n",
        "public_url"
      ],
      "metadata": {
        "colab": {
          "base_uri": "https://localhost:8080/"
        },
        "id": "h9LicuLDNJMh",
        "outputId": "2a2eceb6-40b7-4377-9b03-4fb65c17a530"
      },
      "execution_count": 28,
      "outputs": [
        {
          "output_type": "execute_result",
          "data": {
            "text/plain": [
              "<NgrokTunnel: \"https://f419-35-229-33-35.ngrok-free.app\" -> \"http://localhost:8501\">"
            ]
          },
          "metadata": {},
          "execution_count": 28
        }
      ]
    },
    {
      "cell_type": "markdown",
      "source": [],
      "metadata": {
        "id": "inXs46qNPZ3a"
      }
    },
    {
      "cell_type": "code",
      "source": [],
      "metadata": {
        "id": "T4pvypu4qC1A"
      },
      "execution_count": null,
      "outputs": []
    }
  ]
}