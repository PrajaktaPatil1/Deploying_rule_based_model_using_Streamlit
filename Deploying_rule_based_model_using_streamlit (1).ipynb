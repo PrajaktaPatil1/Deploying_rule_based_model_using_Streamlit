{
  "nbformat": 4,
  "nbformat_minor": 0,
  "metadata": {
    "colab": {
      "provenance": []
    },
    "kernelspec": {
      "name": "python3",
      "display_name": "Python 3"
    },
    "language_info": {
      "name": "python"
    }
  },
  "cells": [
    {
      "cell_type": "markdown",
      "source": [
        "## Deploying the rule based model to automate loan prediction\n",
        "\n",
        "1. Building the Frontend of the application\n",
        "2. Loading the data\n",
        "3. Building the model to automate Loan Eligibility\n",
        "4. Deploying the application"
      ],
      "metadata": {
        "id": "qmCcNZzBLtqA"
      }
    },
    {
      "cell_type": "code",
      "source": [],
      "metadata": {
        "id": "R1GB6xOMLu2d"
      },
      "execution_count": null,
      "outputs": []
    },
    {
      "cell_type": "markdown",
      "source": [
        "## 1. Building the Frontend of the application\n",
        "\n",
        "1.1 Install Required Libraries<br>\n",
        "1.2 Creating the Frontend of the app using Streamlit\n",
        "\n",
        "### 1.1 Install Required Libraries"
      ],
      "metadata": {
        "id": "gptmJOhZL_ab"
      }
    },
    {
      "cell_type": "code",
      "source": [
        "# installing pyngrok\n",
        "!pip install -q pyngrok"
      ],
      "metadata": {
        "id": "Wbjj3T3oLu4f"
      },
      "execution_count": 16,
      "outputs": []
    },
    {
      "cell_type": "code",
      "source": [
        "# installing streamlit\n",
        "!pip install -q streamlit"
      ],
      "metadata": {
        "id": "uU87wYtQLu5v",
        "colab": {
          "base_uri": "https://localhost:8080/"
        },
        "outputId": "a19f7161-0041-48b0-bd21-24b8822498c7"
      },
      "execution_count": 17,
      "outputs": [
        {
          "output_type": "stream",
          "name": "stdout",
          "text": [
            "\u001b[2K     \u001b[90m━━━━━━━━━━━━━━━━━━━━━━━━━━━━━━━━━━━━━━━━\u001b[0m \u001b[32m7.6/7.6 MB\u001b[0m \u001b[31m45.6 MB/s\u001b[0m eta \u001b[36m0:00:00\u001b[0m\n",
            "\u001b[2K     \u001b[90m━━━━━━━━━━━━━━━━━━━━━━━━━━━━━━━━━━━━━━\u001b[0m \u001b[32m190.0/190.0 kB\u001b[0m \u001b[31m16.4 MB/s\u001b[0m eta \u001b[36m0:00:00\u001b[0m\n",
            "\u001b[2K     \u001b[90m━━━━━━━━━━━━━━━━━━━━━━━━━━━━━━━━━━━━━━━━\u001b[0m \u001b[32m4.8/4.8 MB\u001b[0m \u001b[31m93.3 MB/s\u001b[0m eta \u001b[36m0:00:00\u001b[0m\n",
            "\u001b[2K     \u001b[90m━━━━━━━━━━━━━━━━━━━━━━━━━━━━━━━━━━━━━━━━\u001b[0m \u001b[32m82.1/82.1 kB\u001b[0m \u001b[31m8.0 MB/s\u001b[0m eta \u001b[36m0:00:00\u001b[0m\n",
            "\u001b[2K     \u001b[90m━━━━━━━━━━━━━━━━━━━━━━━━━━━━━━━━━━━━━━━━\u001b[0m \u001b[32m62.7/62.7 kB\u001b[0m \u001b[31m6.0 MB/s\u001b[0m eta \u001b[36m0:00:00\u001b[0m\n",
            "\u001b[?25h"
          ]
        }
      ]
    },
    {
      "cell_type": "code",
      "source": [
        "!streamlit version"
      ],
      "metadata": {
        "colab": {
          "base_uri": "https://localhost:8080/"
        },
        "id": "xyoIOty-Lu9J",
        "outputId": "cc1fb8d2-fd2e-429b-ab19-7e705c14a6db"
      },
      "execution_count": 18,
      "outputs": [
        {
          "output_type": "stream",
          "name": "stdout",
          "text": [
            "Streamlit, version 1.27.2\n"
          ]
        }
      ]
    },
    {
      "cell_type": "code",
      "source": [],
      "metadata": {
        "id": "nnMMP4zuMqb0"
      },
      "execution_count": null,
      "outputs": []
    },
    {
      "cell_type": "markdown",
      "source": [
        "### 1.2 Creating the frontend of the app using streamlit"
      ],
      "metadata": {
        "id": "Vv5i1VAKM1Zn"
      }
    },
    {
      "cell_type": "code",
      "source": [
        "# creating the script\n",
        "%%writefile app.py\n",
        "\n",
        "# importing streamlit\n",
        "import streamlit as st\n",
        "\n",
        "# this is the main function in which we define our app\n",
        "def main():\n",
        "    # header of the page\n",
        "    st.markdown(\"Check your Loan Eligibility\")\n",
        "\n",
        "    # 2. Loading the data\n",
        "\n",
        "    # following lines create boxes in which user can enter data required to make prediction\n",
        "    Gender = st.selectbox('Gender',(\"Male\",\"Female\",\"Other\"))\n",
        "    Married = st.selectbox('Marital Status',(\"Unmarried\",\"Married\",\"Other\"))\n",
        "    ApplicantIncome = st.number_input(\"Monthly Income in Rupees\")\n",
        "    LoanAmount = st.number_input(\"Loan Amount in Rupees\")\n",
        "    result =\"\"\n",
        "    # when 'Check' is clicked, make the prediction and store it\n",
        "    if st.button(\"Check\"):\n",
        "        result = prediction(Gender, Married, ApplicantIncome, LoanAmount)\n",
        "        st.success('Your loan is {}'.format(result))\n",
        "\n",
        "# defining the function which will make the prediction using the data which the user inputs\n",
        "def prediction(Gender, Married, ApplicantIncome, LoanAmount):\n",
        "\n",
        "    # 3. Building the model to automate Loan Eligibility\n",
        "    if (ApplicantIncome >= 100):\n",
        "        loan_status = 'Approved'\n",
        "    elif (LoanAmount < 100):\n",
        "        loan_status = 'Approved'\n",
        "    else:\n",
        "        loan_status = 'Rejected'\n",
        "    return loan_status\n",
        "\n",
        "if __name__=='__main__':\n",
        "    main()"
      ],
      "metadata": {
        "colab": {
          "base_uri": "https://localhost:8080/"
        },
        "id": "C1Si-T0aMqeP",
        "outputId": "c0104354-6d99-46ac-afa5-1a845fed2257"
      },
      "execution_count": 19,
      "outputs": [
        {
          "output_type": "stream",
          "name": "stdout",
          "text": [
            "Overwriting app.py\n"
          ]
        }
      ]
    },
    {
      "cell_type": "code",
      "source": [
        "## 4. Deploying the application"
      ],
      "metadata": {
        "id": "-m-3R_IKMqh0"
      },
      "execution_count": null,
      "outputs": []
    },
    {
      "cell_type": "markdown",
      "source": [
        "## 4. Deploying the application"
      ],
      "metadata": {
        "id": "6WjeCmoyNHzO"
      }
    },
    {
      "cell_type": "code",
      "source": [
        "# running the app\n",
        "!streamlit run app.py &>/dev/null&"
      ],
      "metadata": {
        "id": "BkOmNm3hNJKZ"
      },
      "execution_count": 20,
      "outputs": []
    },
    {
      "cell_type": "code",
      "source": [
        "!ngrok config add-authtoken \"2VybCaUlfwvLM19kOeKFwvmuFzP_M99kXFM2Hmc5kFzVLWqP\""
      ],
      "metadata": {
        "colab": {
          "base_uri": "https://localhost:8080/"
        },
        "id": "bBySrdLUpvZz",
        "outputId": "90101327-e265-43c0-ffa7-7103892ef232"
      },
      "execution_count": 21,
      "outputs": [
        {
          "output_type": "stream",
          "name": "stdout",
          "text": [
            "Authtoken saved to configuration file: /root/.ngrok2/ngrok.yml\n"
          ]
        }
      ]
    },
    {
      "cell_type": "code",
      "source": [
        "!kill -9 \"$(pgrep ngrok)\"\n",
        "\n",
        "\n",
        "\n",
        "\n",
        "\n"
      ],
      "metadata": {
        "id": "Cp3acHvu5GfI"
      },
      "execution_count": 14,
      "outputs": []
    },
    {
      "cell_type": "markdown",
      "source": [],
      "metadata": {
        "id": "pIcWLxxQ57sL"
      }
    },
    {
      "cell_type": "code",
      "source": [
        "# making the locally-hosted web application to be publicly accessible\n",
        "from pyngrok import ngrok\n",
        "\n",
        "public_url = ngrok.connect('8501')\n",
        "public_url"
      ],
      "metadata": {
        "colab": {
          "base_uri": "https://localhost:8080/"
        },
        "id": "h9LicuLDNJMh",
        "outputId": "b9da8401-35bf-4045-e3f2-869b76bd9800"
      },
      "execution_count": 22,
      "outputs": [
        {
          "output_type": "execute_result",
          "data": {
            "text/plain": [
              "<NgrokTunnel: \"https://39bc-35-229-33-35.ngrok-free.app\" -> \"http://localhost:8501\">"
            ]
          },
          "metadata": {},
          "execution_count": 22
        }
      ]
    },
    {
      "cell_type": "markdown",
      "source": [],
      "metadata": {
        "id": "inXs46qNPZ3a"
      }
    },
    {
      "cell_type": "code",
      "source": [],
      "metadata": {
        "id": "T4pvypu4qC1A"
      },
      "execution_count": null,
      "outputs": []
    }
  ]
}